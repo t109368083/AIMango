{
  "nbformat": 4,
  "nbformat_minor": 0,
  "metadata": {
    "colab": {
      "name": "ML2.ipynb",
      "provenance": [],
      "toc_visible": true,
      "mount_file_id": "1Gn8gwGKl_g98kA-Yu-kORGG9AUfdago7",
      "authorship_tag": "ABX9TyOqTW5opckb1piRveuu8FtI",
      "include_colab_link": true
    },
    "kernelspec": {
      "name": "python3",
      "display_name": "Python 3"
    },
    "accelerator": "GPU"
  },
  "cells": [
    {
      "cell_type": "markdown",
      "metadata": {
        "id": "view-in-github",
        "colab_type": "text"
      },
      "source": [
        "<a href=\"https://colab.research.google.com/github/t109368083/AIMango/blob/main/ML2.ipynb\" target=\"_parent\"><img src=\"https://colab.research.google.com/assets/colab-badge.svg\" alt=\"Open In Colab\"/></a>"
      ]
    },
    {
      "cell_type": "code",
      "metadata": {
        "id": "K9gHF35CcO56"
      },
      "source": [
        "import cv2\n",
        "import os,sys\n",
        "import numpy as np\n",
        "import matplotlib.pyplot as plt\n",
        "from sklearn.model_selection import train_test_split\n",
        "from keras.models import Sequential,Model,load_model\n",
        "from keras.layers import *\n",
        "from keras.callbacks import *\n",
        "from keras.utils import np_utils\n",
        "from keras.optimizers import SGD,Adam\n",
        "from keras.preprocessing.image import ImageDataGenerator\n",
        "#引進函示\n"
      ],
      "execution_count": null,
      "outputs": []
    },
    {
      "cell_type": "code",
      "metadata": {
        "colab": {
          "base_uri": "https://localhost:8080/",
          "height": 130
        },
        "id": "S3tmRemVf8dY",
        "outputId": "e3f3c1a9-d8b1-407b-c517-5debed64e4b6"
      },
      "source": [
        "images=[]\n",
        "labels=[]\n",
        "name=[]\n",
        "path=\"/content/drive/MyDrive/ML2/train\"\n",
        "def read_images_labels(path,i)\n",
        "  for file in os.listdir(path): \n",
        "    abs_path=os.path.abspath(os.path.join(path,file))\n",
        "    if os.path.isdir(abs_path):\n",
        "      i+=1\n",
        "      temp=os.path.split(abs_path)[-1]\n",
        "      name.appened(temp)\n",
        "      read_images_labels(abs_path,i)\n",
        "      amount=int(len(os.listdir(path)))\n",
        "      sys.stdout.write('\\r'+'>'*(i)+''*(amount-i)+'[]%s%%'%(i*100/amount)+temp)\n",
        "    else:\n",
        "      if file.endswith('.jpg'):\n",
        "        image=cv2.resize(cv2.imread(abs_path,(64,64)))\n",
        "        image.append(image)\n",
        "        labels.append(i-1)\n",
        "    return images,labels ,name\n"
      ],
      "execution_count": null,
      "outputs": [
        {
          "output_type": "error",
          "ename": "SyntaxError",
          "evalue": "ignored",
          "traceback": [
            "\u001b[0;36m  File \u001b[0;32m\"<ipython-input-25-756e699cda98>\"\u001b[0;36m, line \u001b[0;32m5\u001b[0m\n\u001b[0;31m    def read_images_labels(path,i)\u001b[0m\n\u001b[0m                                  ^\u001b[0m\n\u001b[0;31mSyntaxError\u001b[0m\u001b[0;31m:\u001b[0m invalid syntax\n"
          ]
        }
      ]
    },
    {
      "cell_type": "code",
      "metadata": {
        "colab": {
          "base_uri": "https://localhost:8080/",
          "height": 130
        },
        "id": "mcC_DPGhhTx4",
        "outputId": "7d9c6674-5009-4c3f-a16e-4079b69c31bf"
      },
      "source": [
        "\n",
        "      \n"
      ],
      "execution_count": null,
      "outputs": [
        {
          "output_type": "error",
          "ename": "SyntaxError",
          "evalue": "ignored",
          "traceback": [
            "\u001b[0;36m  File \u001b[0;32m\"<ipython-input-9-ff4dc5639335>\"\u001b[0;36m, line \u001b[0;32m1\u001b[0m\n\u001b[0;31m    def read_images_labels(path,i)\u001b[0m\n\u001b[0m                                  ^\u001b[0m\n\u001b[0;31mSyntaxError\u001b[0m\u001b[0;31m:\u001b[0m invalid syntax\n"
          ]
        }
      ]
    },
    {
      "cell_type": "code",
      "metadata": {
        "id": "0fP2ifOPiayn"
      },
      "source": [
        ""
      ],
      "execution_count": null,
      "outputs": []
    }
  ]
}